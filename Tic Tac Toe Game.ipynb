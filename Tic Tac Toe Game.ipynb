{
 "cells": [
  {
   "cell_type": "code",
   "execution_count": 1,
   "id": "a914f252",
   "metadata": {},
   "outputs": [],
   "source": [
    "import tkinter as tk\n",
    "from tkinter import messagebox\n",
    "\n",
    "class TicTacToeApp:\n",
    "    def __init__(self, root):\n",
    "        self.root = root\n",
    "        self.root.title(\"Tic-Tac-Toe\")\n",
    "\n",
    "        self.current_player = \"X\"\n",
    "        self.board = [[\"\" for _ in range(3)] for _ in range(3)]\n",
    "\n",
    "        self.buttons = [[None, None, None] for _ in range(3)]\n",
    "        for i in range(3):\n",
    "            for j in range(3):\n",
    "                self.buttons[i][j] = tk.Button(root, text=\"\", width=10, height=3,\n",
    "                                               command=lambda i=i, j=j: self.make_move(i, j))\n",
    "                self.buttons[i][j].grid(row=i, column=j)\n",
    "\n",
    "        self.reset_button = tk.Button(root, text=\"Reset Game\", command=self.reset_game)\n",
    "        self.reset_button.grid(row=3, column=0, columnspan=3)\n",
    "\n",
    "    def make_move(self, row, col):\n",
    "        if self.board[row][col] == \"\" and not self.check_winner():\n",
    "            self.board[row][col] = self.current_player\n",
    "            self.buttons[row][col].config(text=self.current_player)\n",
    "            if self.check_winner():\n",
    "                messagebox.showinfo(\"Winner!\", f\"Player {self.current_player} wins!\")\n",
    "            elif all(self.board[i][j] != \"\" for i in range(3) for j in range(3)):\n",
    "                messagebox.showinfo(\"Tie!\", \"It's a tie!\")\n",
    "            else:\n",
    "                self.current_player = \"O\" if self.current_player == \"X\" else \"X\"\n",
    "\n",
    "    def check_winner(self):\n",
    "        for i in range(3):\n",
    "            if self.board[i][0] == self.board[i][1] == self.board[i][2] != \"\":\n",
    "                return True\n",
    "            if self.board[0][i] == self.board[1][i] == self.board[2][i] != \"\":\n",
    "                return True\n",
    "        if self.board[0][0] == self.board[1][1] == self.board[2][2] != \"\":\n",
    "            return True\n",
    "        if self.board[0][2] == self.board[1][1] == self.board[2][0] != \"\":\n",
    "            return True\n",
    "        return False\n",
    "\n",
    "    def reset_game(self):\n",
    "        self.current_player = \"X\"\n",
    "        self.board = [[\"\" for _ in range(3)] for _ in range(3)]\n",
    "        for i in range(3):\n",
    "            for j in range(3):\n",
    "                self.buttons[i][j].config(text=\"\")\n",
    "\n",
    "if __name__ == \"__main__\":\n",
    "    root = tk.Tk()\n",
    "    app = TicTacToeApp(root)\n",
    "    root.mainloop()"
   ]
  }
 ],
 "metadata": {
  "kernelspec": {
   "display_name": "Python 3 (ipykernel)",
   "language": "python",
   "name": "python3"
  },
  "language_info": {
   "codemirror_mode": {
    "name": "ipython",
    "version": 3
   },
   "file_extension": ".py",
   "mimetype": "text/x-python",
   "name": "python",
   "nbconvert_exporter": "python",
   "pygments_lexer": "ipython3",
   "version": "3.11.4"
  }
 },
 "nbformat": 4,
 "nbformat_minor": 5
}
